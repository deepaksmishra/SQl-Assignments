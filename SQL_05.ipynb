{
  "nbformat": 4,
  "nbformat_minor": 0,
  "metadata": {
    "colab": {
      "name": "SQL_05.ipynb",
      "provenance": [],
      "collapsed_sections": []
    },
    "kernelspec": {
      "name": "python3",
      "display_name": "Python 3"
    },
    "language_info": {
      "name": "python"
    }
  },
  "cells": [
    {
      "cell_type": "code",
      "metadata": {
        "id": "xLsl0iEYiYz_"
      },
      "source": [
        "Q-1. Write an SQL query to print details of workers excluding first names, “Vipul” and “Satish” from Worker table.\n",
        "Ans:\n",
        "Select * from Worker where FIRST_NAME not in ('Vipul','Satish');\n",
        "\n",
        "Q-2. Write an SQL query to print details of the Workers whose FIRST_NAME ends with ‘h’ and contains six alphabets.\n",
        "Ans: Select * from Worker where FIRST_NAME like '_____h';\n",
        "\n",
        "\n",
        "Q-3. Write a query to validate Email of Employee.\n",
        "Ans: \n"
      ],
      "execution_count": null,
      "outputs": []
    }
  ]
}