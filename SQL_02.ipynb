{
  "nbformat": 4,
  "nbformat_minor": 0,
  "metadata": {
    "colab": {
      "name": "SQL_02.ipynb",
      "provenance": [],
      "collapsed_sections": []
    },
    "kernelspec": {
      "name": "python3",
      "display_name": "Python 3"
    },
    "language_info": {
      "name": "python"
    }
  },
  "cells": [
    {
      "cell_type": "code",
      "metadata": {
        "id": "f6cVmgVqYoDh"
      },
      "source": [
        "Q-1. Write an SQL query to print the first three characters of  FIRST_NAME from Worker table.\n",
        "Ans: \n",
        "\n",
        "SELECT SUBSTRING(first_name,1,3) \n",
        "FROM employees;\n",
        "\n",
        " Q-2. Write an SQL query to find the position of the alphabet (‘a’) in the first name column ‘Amitabh’ from Worker table.\n",
        " ans Select CHARINDEX('a', 'Amitabh') as Position;\n",
        "Q-3. Write an SQL query to print the name of employees having the highest salary in each department.\n",
        " ans : \n",
        "SELECT t.DEPARTMENT,t.FIRST_NAME,t.Salary from(SELECT max(Salary) as TotalSalary,\n",
        "\n",
        "              DEPARTMENT from WORKERS group by DEPARTMENT) as TempNew\n",
        "\n",
        "Inner Join WORKERS t on TempNew.DEPARTMENT=t.DEPARTMENT\n",
        "\n",
        " and TempNew.TotalSalary=t.Salary;"
      ],
      "execution_count": null,
      "outputs": []
    }
  ]
}