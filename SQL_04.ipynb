{
  "nbformat": 4,
  "nbformat_minor": 0,
  "metadata": {
    "colab": {
      "name": "SQL_04.ipynb",
      "provenance": [],
      "collapsed_sections": []
    },
    "kernelspec": {
      "name": "python3",
      "display_name": "Python 3"
    },
    "language_info": {
      "name": "python"
    }
  },
  "cells": [
    {
      "cell_type": "code",
      "metadata": {
        "id": "QaN4SAbdhohU"
      },
      "source": [
        "Q-1. Write an SQL query to print the FIRST_NAME from Worker table after replacing ‘a’ with ‘A’.\n",
        "Ans: \n",
        "Select REPLACE(FIRST_NAME,'a','A') from Worker;\n",
        "\n",
        "\n",
        "Q-2. Write an SQL query to print all Worker details from the Worker table order by FIRST_NAME Ascending and DEPARTMENT Descending.\n",
        "Ans: Select * from Worker order by FIRST_NAME asc;\n",
        "\n",
        "\n",
        "Q-3. Write an SQL query to fetch the names of workers who earn the highest salary.\n",
        "Ans: SELECT FIRST_NAME, SALARY from Worker WHERE SALARY=(SELECT max(SALARY) from Worker);"
      ],
      "execution_count": null,
      "outputs": []
    }
  ]
}