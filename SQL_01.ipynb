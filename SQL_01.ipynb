{
  "nbformat": 4,
  "nbformat_minor": 0,
  "metadata": {
    "colab": {
      "name": "SQL_01.ipynb",
      "provenance": [],
      "collapsed_sections": []
    },
    "kernelspec": {
      "name": "python3",
      "display_name": "Python 3"
    },
    "language_info": {
      "name": "python"
    }
  },
  "cells": [
    {
      "cell_type": "code",
      "metadata": {
        "id": "YlfB7mwRUpwC"
      },
      "source": [
        "Q-1. Write an SQL query to fetch “FIRST_NAME” from Worker table using the alias name as <WORKER_NAME>.\n",
        "Ans: \n",
        "Select FIRST_NAME AS WORKER_NAME from Worker;\n",
        "\n",
        "\n",
        "Q-2. Write an SQL query to fetch unique values of DEPARTMENT from Worker table.\n",
        "Ans: \n",
        "\n",
        "Select distinct DEPARTMENT from Worker;\n",
        "\n",
        "Q-3. Write an SQL query to show the last 5 record from a table.\n",
        "Ans: \n",
        "Select substring(FIRST_NAME,1,3) from Worker;\n",
        "\n",
        "\n"
      ],
      "execution_count": null,
      "outputs": []
    }
  ]
}