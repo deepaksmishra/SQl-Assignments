{
  "nbformat": 4,
  "nbformat_minor": 0,
  "metadata": {
    "colab": {
      "name": "SQL_03.ipynb",
      "provenance": [],
      "collapsed_sections": []
    },
    "kernelspec": {
      "name": "python3",
      "display_name": "Python 3"
    },
    "language_info": {
      "name": "python"
    }
  },
  "cells": [
    {
      "cell_type": "code",
      "metadata": {
        "id": "KaKWqxe8gK1D"
      },
      "source": [
        "Q-1. Write an SQL query to print the FIRST_NAME from Worker table after removing white spaces from the right side.\n",
        "Ans: \n",
        "SELECT TRIM(first_name) \n",
        "    FROM employees;\n",
        "\n",
        "Q-2. Write an SQL query that fetches the unique values of DEPARTMENT from Worker table and prints its length.\n",
        "Ans: \n",
        "\n",
        " select  distinct length(department) from worker;\n",
        "\n",
        "Q-3. Write an SQL query to fetch nth max salaries from a table.\n",
        "Ans: \n",
        "select * from(\n",
        "select ename, sal, dense_rank() \n",
        "over(order by sal desc)r from Employee) \n",
        "where r=&n;\n",
        "\n"
      ],
      "execution_count": null,
      "outputs": []
    }
  ]
}